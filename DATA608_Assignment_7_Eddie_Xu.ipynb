{
 "cells": [
  {
   "cell_type": "markdown",
   "metadata": {},
   "source": [
    "# Story 7: Where Do Strategic Minerals Come From?\n",
    "\n",
    "The US Geological Survey publishes a list of Strategic Minerals ( https://www.usgs.gov/news/national-news-release/us-geological-survey-releases-2022-list-critical-minerals ). Having a secure supply of these minerals is essential to our security and economic prosperity. However many of these minerals are sourced from outside of the US. This assignment is to develop a reference catalog of the source or sources of each of these minerals and a judgment on the reliability of each source under stressed circumstance (e.g. war, economic crisis, etc.)"
   ]
  },
  {
   "cell_type": "code",
   "execution_count": 2,
   "metadata": {},
   "outputs": [
    {
     "name": "stderr",
     "output_type": "stream",
     "text": [
      "/Users/eddiexuexia/opt/anaconda3/lib/python3.9/site-packages/scipy/__init__.py:155: UserWarning: A NumPy version >=1.18.5 and <1.25.0 is required for this version of SciPy (detected version 1.26.4\n",
      "  warnings.warn(f\"A NumPy version >={np_minversion} and <{np_maxversion}\"\n"
     ]
    }
   ],
   "source": [
    "# load packages\n",
    "import numpy as np # need to downgrade this packages pip install numpy==1.26.4  pyyaml\n",
    "import pandas as pd\n",
    "import matplotlib.pyplot as plt\n",
    "from matplotlib.gridspec import GridSpec, GridSpecFromSubplotSpec\n",
    "import geopandas as gpd\n",
    "from mpl_toolkits.axes_grid1.inset_locator import inset_axes\n",
    "import seaborn as sns"
   ]
  },
  {
   "cell_type": "markdown",
   "metadata": {},
   "source": [
    "## Data Preparation"
   ]
  },
  {
   "cell_type": "code",
   "execution_count": 7,
   "metadata": {},
   "outputs": [
    {
     "data": {
      "text/plain": [
       "{'mineral': ['Aluminum',\n",
       "  'Antimony',\n",
       "  'Arsenic',\n",
       "  'Barite',\n",
       "  'Beryllium',\n",
       "  'Bismuth',\n",
       "  'Cerium',\n",
       "  'Cesium',\n",
       "  'Chromium',\n",
       "  'Cobalt',\n",
       "  'Dysprosium',\n",
       "  'Erbium',\n",
       "  'Europium',\n",
       "  'Fluorspar',\n",
       "  'Gadolinium',\n",
       "  'Gallium',\n",
       "  'Germanium',\n",
       "  'Graphite',\n",
       "  'Hafnium',\n",
       "  'Holmium',\n",
       "  'Indium',\n",
       "  'Iridium',\n",
       "  'Lanthanum',\n",
       "  'Lithium',\n",
       "  'Lutetium',\n",
       "  'Magnesium',\n",
       "  'Manganese',\n",
       "  'Neodymium',\n",
       "  'Nickel',\n",
       "  'Niobium',\n",
       "  'Palladium',\n",
       "  'Platinum',\n",
       "  'Praseodymium',\n",
       "  'Rhodium',\n",
       "  'Rubidium',\n",
       "  'Ruthenium',\n",
       "  'Samarium',\n",
       "  'Scandium',\n",
       "  'Tantalum',\n",
       "  'Tellurium',\n",
       "  'Terbium',\n",
       "  'Thulium',\n",
       "  'Tin',\n",
       "  'Titanium',\n",
       "  'Tungsten',\n",
       "  'Vanadium',\n",
       "  'Ytterbium',\n",
       "  'Yttrium',\n",
       "  'Zinc',\n",
       "  'Zirconium']}"
      ]
     },
     "execution_count": 7,
     "metadata": {},
     "output_type": "execute_result"
    }
   ],
   "source": [
    "# list of minerals in 2022\n",
    "list_mineral = {\n",
    "    'mineral': ['Aluminum', \n",
    "                'Antimony',\n",
    "                'Arsenic',\n",
    "                'Barite',\n",
    "                'Beryllium',\n",
    "                'Bismuth',\n",
    "                'Cerium',\n",
    "                'Cesium',\n",
    "                'Chromium',\n",
    "                'Cobalt',\n",
    "                'Dysprosium',\n",
    "                'Erbium',\n",
    "                'Europium',\n",
    "                'Fluorspar',\n",
    "                'Gadolinium',\n",
    "                'Gallium',\n",
    "                'Germanium',\n",
    "                'Graphite',\n",
    "                'Hafnium',\n",
    "                'Holmium',\n",
    "                'Indium',\n",
    "                'Iridium',\n",
    "                'Lanthanum',\n",
    "                'Lithium',\n",
    "                'Lutetium',\n",
    "                'Magnesium',\n",
    "                'Manganese',\n",
    "                'Neodymium',\n",
    "                'Nickel',\n",
    "                'Niobium',\n",
    "                'Palladium',\n",
    "                'Platinum',\n",
    "                'Praseodymium',\n",
    "                'Rhodium',\n",
    "                'Rubidium',\n",
    "                'Ruthenium',\n",
    "                'Samarium',\n",
    "                'Scandium',\n",
    "                'Tantalum',\n",
    "                'Tellurium',\n",
    "                'Terbium',\n",
    "                'Thulium',\n",
    "                'Tin',\n",
    "                'Titanium',\n",
    "                'Tungsten',\n",
    "                'Vanadium',\n",
    "                'Ytterbium',\n",
    "                'Yttrium',\n",
    "                'Zinc',\n",
    "                'Zirconium']}\n",
    "\n",
    "list_mineral"
   ]
  },
  {
   "cell_type": "code",
   "execution_count": null,
   "metadata": {},
   "outputs": [],
   "source": [
    "# data on mineral\n",
    "mineral_production_data_url = 'https://raw.githubusercontent.com/eddiexunyc/us_mineral_source/refs/heads/main/Resources/USGS_Production_Full%20Data_data.csv'\n",
    "mineral_net_relience_data_url = 'https://raw.githubusercontent.com/eddiexunyc/us_mineral_source/refs/heads/main/Resources/USGS_net_relience_mineral.csv'\n"
   ]
  }
 ],
 "metadata": {
  "kernelspec": {
   "display_name": "base",
   "language": "python",
   "name": "python3"
  },
  "language_info": {
   "codemirror_mode": {
    "name": "ipython",
    "version": 3
   },
   "file_extension": ".py",
   "mimetype": "text/x-python",
   "name": "python",
   "nbconvert_exporter": "python",
   "pygments_lexer": "ipython3",
   "version": "3.9.13"
  }
 },
 "nbformat": 4,
 "nbformat_minor": 2
}
